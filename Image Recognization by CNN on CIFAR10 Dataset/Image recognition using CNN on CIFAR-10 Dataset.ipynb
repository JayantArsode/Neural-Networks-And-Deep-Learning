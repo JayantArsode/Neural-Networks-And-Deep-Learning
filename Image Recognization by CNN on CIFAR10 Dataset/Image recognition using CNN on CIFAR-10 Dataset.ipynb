{
 "cells": [
  {
   "cell_type": "markdown",
   "metadata": {},
   "source": [
    "# Image recognition using CNN on CIFAR-10 Dataset"
   ]
  },
  {
   "cell_type": "code",
   "execution_count": 2,
   "metadata": {},
   "outputs": [],
   "source": [
    "from keras.datasets import cifar10\n",
    "from keras.layers import Dense,Conv2D,MaxPooling2D,Flatten,Dropout\n",
    "from keras.utils import load_img,to_categorical\n",
    "from keras.models import Sequential\n",
    "import matplotlib.pyplot as plt\n",
    "from pathlib import Path\n",
    "\n",
    "(X_train,y_train),(X_test,y_test)=cifar10.load_data()"
   ]
  },
  {
   "cell_type": "code",
   "execution_count": 31,
   "metadata": {},
   "outputs": [
    {
     "data": {
      "text/plain": [
       "<matplotlib.image.AxesImage at 0x1b78fec77f0>"
      ]
     },
     "execution_count": 31,
     "metadata": {},
     "output_type": "execute_result"
    },
    {
     "data": {
      "image/png": "[encoded data removed]",
      "text/plain": [
       "<Figure size 432x288 with 1 Axes>"
      ]
     },
     "metadata": {
      "needs_background": "light"
     },
     "output_type": "display_data"
    }
   ],
   "source": [
    "# Image ploting from train data\n",
    "plt.imshow(X_train[0])"
   ]
  },
  {
   "cell_type": "markdown",
   "metadata": {},
   "source": [
    "# Data Normalization and Encoding"
   ]
  },
  {
   "cell_type": "code",
   "execution_count": 8,
   "metadata": {},
   "outputs": [],
   "source": [
    "# normalize data\n",
    "X_train=X_train.astype(\"float32\")\n",
    "X_test=X_test.astype(\"float32\")\n",
    "\n",
    "X_train/=255.0\n",
    "X_test/=255.0"
   ]
  },
  {
   "cell_type": "code",
   "execution_count": 9,
   "metadata": {},
   "outputs": [],
   "source": [
    "#One-hot encoding label\n",
    "y_train=to_categorical(y_train,10)\n",
    "y_test=to_categorical(y_test,10)"
   ]
  },
  {
   "cell_type": "code",
   "execution_count": 10,
   "metadata": {},
   "outputs": [
    {
     "name": "stdout",
     "output_type": "stream",
     "text": [
      "Shape of X_train:  (50000, 32, 32, 3)\n",
      "Shape of y_train:  (50000, 10)\n",
      "Shape of X_test:  (10000, 32, 32, 3)\n",
      "Shape of y_test:  (10000, 10)\n"
     ]
    }
   ],
   "source": [
    "print(\"Shape of X_train: \",X_train.shape)\n",
    "print(\"Shape of y_train: \",y_train.shape)\n",
    "print(\"Shape of X_test: \",X_test.shape)\n",
    "print(\"Shape of y_test: \",y_test.shape)"
   ]
  },
  {
   "cell_type": "markdown",
   "metadata": {},
   "source": [
    "shape here is (number of images,image_height,image_width,rgd_states)"
   ]
  },
  {
   "cell_type": "markdown",
   "metadata": {},
   "source": [
    "# CNN model"
   ]
  },
  {
   "cell_type": "code",
   "execution_count": 11,
   "metadata": {},
   "outputs": [],
   "source": [
    "# model creation\n",
    "\n",
    "model=Sequential()\n",
    "model.add(Conv2D(32,(3,3),padding='same', input_shape=(32,32,3),activation='relu'))\n",
    "model.add(Conv2D(32, (3,3),activation='relu'))\n",
    "model.add(MaxPooling2D(pool_size=(2,2)))\n",
    "model.add(Dropout(0.25))\n",
    "\n",
    "model.add(Conv2D(64,(3,3),padding='same',activation='relu'))\n",
    "model.add(Conv2D(64, (3,3),activation='relu'))\n",
    "model.add(MaxPooling2D(pool_size=(2,2)))\n",
    "model.add(Dropout(0.25))\n",
    "\n",
    "model.add(Flatten())\n",
    "model.add(Dense(512, activation='relu'))\n",
    "model.add(Dense(128,activation='relu'))\n",
    "model.add(Dropout(0.5))\n",
    "model.add(Dense(10, activation='softmax'))"
   ]
  },
  {
   "cell_type": "code",
   "execution_count": 13,
   "metadata": {},
   "outputs": [
    {
     "name": "stdout",
     "output_type": "stream",
     "text": [
      "Model: \"sequential_1\"\n",
      "_________________________________________________________________\n",
      " Layer (type)                Output Shape              Param #   \n",
      "=================================================================\n",
      " conv2d_4 (Conv2D)           (None, 32, 32, 32)        896       \n",
      "                                                                 \n",
      " conv2d_5 (Conv2D)           (None, 30, 30, 32)        9248      \n",
      "                                                                 \n",
      " max_pooling2d_2 (MaxPooling  (None, 15, 15, 32)       0         \n",
      " 2D)                                                             \n",
      "                                                                 \n",
      " dropout_3 (Dropout)         (None, 15, 15, 32)        0         \n",
      "                                                                 \n",
      " conv2d_6 (Conv2D)           (None, 15, 15, 64)        18496     \n",
      "                                                                 \n",
      " conv2d_7 (Conv2D)           (None, 13, 13, 64)        36928     \n",
      "                                                                 \n",
      " max_pooling2d_3 (MaxPooling  (None, 6, 6, 64)         0         \n",
      " 2D)                                                             \n",
      "                                                                 \n",
      " dropout_4 (Dropout)         (None, 6, 6, 64)          0         \n",
      "                                                                 \n",
      " flatten_1 (Flatten)         (None, 2304)              0         \n",
      "                                                                 \n",
      " dense_3 (Dense)             (None, 512)               1180160   \n",
      "                                                                 \n",
      " dense_4 (Dense)             (None, 128)               65664     \n",
      "                                                                 \n",
      " dropout_5 (Dropout)         (None, 128)               0         \n",
      "                                                                 \n",
      " dense_5 (Dense)             (None, 10)                1290      \n",
      "                                                                 \n",
      "=================================================================\n",
      "Total params: 1,312,682\n",
      "Trainable params: 1,312,682\n",
      "Non-trainable params: 0\n",
      "_________________________________________________________________\n"
     ]
    }
   ],
   "source": [
    "#compile model\n",
    "model.compile(\n",
    "loss='categorical_crossentropy',\n",
    "optimizer='adam',\n",
    "metrics=['accuracy'])\n",
    "\n",
    "#model summary\n",
    "\n",
    "model.summary()"
   ]
  },
  {
   "cell_type": "markdown",
   "metadata": {},
   "source": [
    "# Training Model"
   ]
  },
  {
   "cell_type": "code",
   "execution_count": 14,
   "metadata": {},
   "outputs": [
    {
     "name": "stdout",
     "output_type": "stream",
     "text": [
      "Epoch 1/20\n",
      "1563/1563 [==============================] - 73s 46ms/step - loss: 1.6502 - accuracy: 0.3926 - val_loss: 1.2125 - val_accuracy: 0.5647\n",
      "Epoch 2/20\n",
      "1563/1563 [==============================] - 68s 44ms/step - loss: 1.2236 - accuracy: 0.5702 - val_loss: 1.1006 - val_accuracy: 0.6102\n",
      "Epoch 3/20\n",
      "1563/1563 [==============================] - 83s 53ms/step - loss: 1.0452 - accuracy: 0.6358 - val_loss: 0.9105 - val_accuracy: 0.6838\n",
      "Epoch 4/20\n",
      "1563/1563 [==============================] - 84s 54ms/step - loss: 0.9293 - accuracy: 0.6789 - val_loss: 0.8637 - val_accuracy: 0.7041\n",
      "Epoch 5/20\n",
      "1563/1563 [==============================] - 69s 44ms/step - loss: 0.8333 - accuracy: 0.7131 - val_loss: 0.8076 - val_accuracy: 0.7203\n",
      "Epoch 6/20\n",
      "1563/1563 [==============================] - 117s 75ms/step - loss: 0.7710 - accuracy: 0.7360 - val_loss: 0.7617 - val_accuracy: 0.7354\n",
      "Epoch 7/20\n",
      "1563/1563 [==============================] - 75s 48ms/step - loss: 0.7128 - accuracy: 0.7545 - val_loss: 0.7327 - val_accuracy: 0.7480\n",
      "Epoch 8/20\n",
      "1563/1563 [==============================] - 153s 98ms/step - loss: 0.6697 - accuracy: 0.7714 - val_loss: 0.7368 - val_accuracy: 0.7511\n",
      "Epoch 9/20\n",
      "1563/1563 [==============================] - 152s 97ms/step - loss: 0.6295 - accuracy: 0.7800 - val_loss: 0.7356 - val_accuracy: 0.7505\n",
      "Epoch 10/20\n",
      "1563/1563 [==============================] - 143s 91ms/step - loss: 0.5900 - accuracy: 0.7975 - val_loss: 0.7467 - val_accuracy: 0.7557\n",
      "Epoch 11/20\n",
      "1563/1563 [==============================] - 118s 75ms/step - loss: 0.5589 - accuracy: 0.8081 - val_loss: 0.7464 - val_accuracy: 0.7575\n",
      "Epoch 12/20\n",
      "1563/1563 [==============================] - 144s 92ms/step - loss: 0.5319 - accuracy: 0.8166 - val_loss: 0.7938 - val_accuracy: 0.7526\n",
      "Epoch 13/20\n",
      "1563/1563 [==============================] - 158s 101ms/step - loss: 0.5028 - accuracy: 0.8263 - val_loss: 0.7604 - val_accuracy: 0.7622\n",
      "Epoch 14/20\n",
      "1563/1563 [==============================] - 76s 49ms/step - loss: 0.4795 - accuracy: 0.8353 - val_loss: 0.7780 - val_accuracy: 0.7592\n",
      "Epoch 15/20\n",
      "1563/1563 [==============================] - 67s 43ms/step - loss: 0.4549 - accuracy: 0.8438 - val_loss: 0.7734 - val_accuracy: 0.7618\n",
      "Epoch 16/20\n",
      "1563/1563 [==============================] - 69s 44ms/step - loss: 0.4428 - accuracy: 0.8466 - val_loss: 0.7547 - val_accuracy: 0.7623\n",
      "Epoch 17/20\n",
      "1563/1563 [==============================] - 69s 44ms/step - loss: 0.4154 - accuracy: 0.8563 - val_loss: 0.7742 - val_accuracy: 0.7650\n",
      "Epoch 18/20\n",
      "1563/1563 [==============================] - 73s 47ms/step - loss: 0.4088 - accuracy: 0.8608 - val_loss: 0.7906 - val_accuracy: 0.7654\n",
      "Epoch 19/20\n",
      "1563/1563 [==============================] - 73s 47ms/step - loss: 0.3859 - accuracy: 0.8669 - val_loss: 0.8124 - val_accuracy: 0.7678\n",
      "Epoch 20/20\n",
      "1563/1563 [==============================] - 73s 47ms/step - loss: 0.3745 - accuracy: 0.8724 - val_loss: 0.8237 - val_accuracy: 0.7641\n"
     ]
    }
   ],
   "source": [
    "# to train model\n",
    "\n",
    "EPOCHS=20\n",
    "\n",
    "Batch_size=32\n",
    "\n",
    "Valiadtion_data=(X_test,y_test)\n",
    "\n",
    "history=model.fit(X_train,y_train,\n",
    "         batch_size=Batch_size,\n",
    "         validation_data=Valiadtion_data,\n",
    "         epochs=EPOCHS,\n",
    "         verbose=1,\n",
    "         shuffle=True)"
   ]
  },
  {
   "cell_type": "markdown",
   "metadata": {},
   "source": [
    "# Accuracy Curve"
   ]
  },
  {
   "cell_type": "code",
   "execution_count": 19,
   "metadata": {},
   "outputs": [
    {
     "data": {
      "image/png": "[encoded data removed]",
      "text/plain": [
       "<Figure size 576x360 with 1 Axes>"
      ]
     },
     "metadata": {
      "needs_background": "light"
     },
     "output_type": "display_data"
    }
   ],
   "source": [
    "import pandas as pd\n",
    "pd.DataFrame(history.history)[\"accuracy\"].plot(figsize=(8,5))\n",
    "plt.title(\"Accuracy improvement after each epoch\")\n",
    "plt.show()"
   ]
  },
  {
   "cell_type": "markdown",
   "metadata": {},
   "source": [
    "# Saving Model And Model Weights"
   ]
  },
  {
   "cell_type": "code",
   "execution_count": 20,
   "metadata": {},
   "outputs": [
    {
     "name": "stderr",
     "output_type": "stream",
     "text": [
      "WARNING:absl:Found untraced functions such as _jit_compiled_convolution_op, _jit_compiled_convolution_op, _jit_compiled_convolution_op, _jit_compiled_convolution_op while saving (showing 4 of 4). These functions will not be directly callable after loading.\n"
     ]
    },
    {
     "name": "stdout",
     "output_type": "stream",
     "text": [
      "INFO:tensorflow:Assets written to: image_reco\\assets\n"
     ]
    },
    {
     "name": "stderr",
     "output_type": "stream",
     "text": [
      "INFO:tensorflow:Assets written to: image_reco\\assets\n"
     ]
    }
   ],
   "source": [
    "# save the neural network architecture\n",
    "model.save(\"image_reco\")\n",
    "\n",
    "# save the trained neural network weights\n",
    "model.save_weights(\"model_weights.h5\")"
   ]
  },
  {
   "cell_type": "markdown",
   "metadata": {},
   "source": [
    "# LOADING SAVED MODEL AND PREDICTING IMAGES WITH MODEL"
   ]
  },
  {
   "cell_type": "code",
   "execution_count": 56,
   "metadata": {},
   "outputs": [],
   "source": [
    "from keras.models import load_model\n",
    "from keras.models import model_from_json\n",
    "import numpy as np\n",
    "import matplotlib.pyplot as plt"
   ]
  },
  {
   "cell_type": "code",
   "execution_count": 57,
   "metadata": {},
   "outputs": [],
   "source": [
    "# Classes labels present in cifar10 dataset\n",
    "class_labels=[\n",
    "    \"Planes\",\n",
    "    \"Car\",\n",
    "    \"Bird\",\n",
    "    \"Cat\",\n",
    "    \"Deer\",\n",
    "    \"Dog\",\n",
    "    \"Frog\",\n",
    "    \"Horse\",\n",
    "    \"Boat\",\n",
    "    \"Truck\"\n",
    "]"
   ]
  },
  {
   "cell_type": "code",
   "execution_count": 58,
   "metadata": {},
   "outputs": [
    {
     "data": {
      "text/plain": [
       "<matplotlib.image.AxesImage at 0x25a74b38bb0>"
      ]
     },
     "execution_count": 58,
     "metadata": {},
     "output_type": "execute_result"
    },
    {
     "data": {
      "image/png": "[encoded data removed]",
      "text/plain": [
       "<Figure size 432x288 with 1 Axes>"
      ]
     },
     "metadata": {
      "needs_background": "light"
     },
     "output_type": "display_data"
    }
   ],
   "source": [
    "# laod an image file to test\n",
    "from keras.utils import load_img,img_to_array\n",
    "\n",
    "img= load_img(\"Sample testing images\\\\horse.jpg\",target_size=(32,32))\n",
    "plt.imshow(img)"
   ]
  },
  {
   "cell_type": "code",
   "execution_count": 59,
   "metadata": {},
   "outputs": [],
   "source": [
    "# Convert the image to a numpy array\n",
    "\n",
    "image_to_test= img_to_array(img)"
   ]
  },
  {
   "cell_type": "code",
   "execution_count": 60,
   "metadata": {},
   "outputs": [],
   "source": [
    "# Add a fourth dimesnion to the image, since Keras expects a list of images, not a single image\n",
    "\n",
    "list_of_images= np.expand_dims(image_to_test,axis=0)"
   ]
  },
  {
   "cell_type": "code",
   "execution_count": 61,
   "metadata": {},
   "outputs": [
    {
     "name": "stdout",
     "output_type": "stream",
     "text": [
      "WARNING:tensorflow:5 out of the last 5 calls to <function Model.make_predict_function.<locals>.predict_function at 0x0000025A74B41120> triggered tf.function retracing. Tracing is expensive and the excessive number of tracings could be due to (1) creating @tf.function repeatedly in a loop, (2) passing tensors with different shapes, (3) passing Python objects instead of tensors. For (1), please define your @tf.function outside of the loop. For (2), @tf.function has reduce_retracing=True option that can avoid unnecessary retracing. For (3), please refer to https://www.tensorflow.org/guide/function#controlling_retracing and https://www.tensorflow.org/api_docs/python/tf/function for  more details.\n",
      "1/1 [==============================] - 0s 81ms/step\n"
     ]
    }
   ],
   "source": [
    "# make predictions using the model\n",
    "model_loaded=load_model(\"image_reco\")\n",
    "results= model_loaded.predict(list_of_images)"
   ]
  },
  {
   "cell_type": "code",
   "execution_count": 62,
   "metadata": {},
   "outputs": [],
   "source": [
    "# since we are only testing one image, we only need to check the first result\n",
    "\n",
    "single_result= results[0]"
   ]
  },
  {
   "cell_type": "code",
   "execution_count": 63,
   "metadata": {},
   "outputs": [
    {
     "data": {
      "text/plain": [
       "array([0., 0., 0., 0., 0., 0., 0., 1., 0., 0.], dtype=float32)"
      ]
     },
     "execution_count": 63,
     "metadata": {},
     "output_type": "execute_result"
    }
   ],
   "source": [
    "single_result"
   ]
  },
  {
   "cell_type": "code",
   "execution_count": 64,
   "metadata": {},
   "outputs": [],
   "source": [
    "# We will get a likelihood score for all 10 possible classes. Find out which class has the highest score\n",
    "\n",
    "most_likely_class_index= int(np.argmax(single_result))\n",
    "class_likelihood= single_result[most_likely_class_index]"
   ]
  },
  {
   "cell_type": "code",
   "execution_count": 65,
   "metadata": {},
   "outputs": [],
   "source": [
    "# Get the name of the most likely class\n",
    "\n",
    "class_label= class_labels[most_likely_class_index]"
   ]
  },
  {
   "cell_type": "code",
   "execution_count": 66,
   "metadata": {},
   "outputs": [
    {
     "name": "stdout",
     "output_type": "stream",
     "text": [
      "This is image is a Horse- Likelihood: 1.000000\n"
     ]
    }
   ],
   "source": [
    "# Print the result\n",
    "\n",
    "print(\"This is image is a {}- Likelihood: {:2f}\".format(class_label, class_likelihood))"
   ]
  }
 ],
 "metadata": {
  "kernelspec": {
   "display_name": "Python 3.10.5 64-bit",
   "language": "python",
   "name": "python3"
  },
  "language_info": {
   "codemirror_mode": {
    "name": "ipython",
    "version": 3
   },
   "file_extension": ".py",
   "mimetype": "text/x-python",
   "name": "python",
   "nbconvert_exporter": "python",
   "pygments_lexer": "ipython3",
   "version": "3.10.5"
  },
  "orig_nbformat": 4,
  "vscode": {
   "interpreter": {
    "hash": "52634da84371cba311ea128a5ea7cdc41ff074b781779e754b270ff9f8153cee"
   }
  }
 },
 "nbformat": 4,
 "nbformat_minor": 2
}
